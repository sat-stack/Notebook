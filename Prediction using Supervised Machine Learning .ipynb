{
 "cells": [
  {
   "cell_type": "markdown",
   "id": "a683626a",
   "metadata": {},
   "source": [
    "# <span style=\"color: green;\">Data Science and Bussiness Analytics Internship @ GRIP : The Spark Foundation</span>\n",
    "    \n",
    "    "
   ]
  },
  {
   "cell_type": "markdown",
   "id": "540266e7",
   "metadata": {},
   "source": [
    "# <span style=\"color: green;\">Author : Satabdi Patra</span>"
   ]
  },
  {
   "cell_type": "markdown",
   "id": "97825276",
   "metadata": {},
   "source": [
    "# <span style=\"color: green;\">Objective of Task1 : Prediction using Supervised Machine Learning</span>"
   ]
  },
  {
   "cell_type": "markdown",
   "id": "c27e12c9",
   "metadata": {},
   "source": [
    " In this regression task we will predict the percentage of marks that a student is expected to score based upon the number of hours they studied. This is a simple linear regression task as it involves just two variables.\n",
    "\n"
   ]
  },
  {
   "cell_type": "markdown",
   "id": "e4271070",
   "metadata": {},
   "source": [
    "# <span style=\"color: green;\">Importing the required libraries :</span>"
   ]
  },
  {
   "cell_type": "code",
   "execution_count": 1,
   "id": "01e2626c",
   "metadata": {},
   "outputs": [],
   "source": [
    "# Importing all libraries required in this notebook\n",
    "import pandas as pd\n",
    "import numpy as np\n",
    "import seaborn as sns\n",
    "import matplotlib.pyplot as plt\n",
    "import sklearn as skl\n",
    "from sklearn.model_selection import train_test_split\n",
    "from sklearn.linear_model import LinearRegression"
   ]
  },
  {
   "cell_type": "markdown",
   "id": "d7413188",
   "metadata": {},
   "source": [
    "# <span style=\"color: green;\">Importing and reading the dataset:</span>"
   ]
  },
  {
   "cell_type": "code",
   "execution_count": 2,
   "id": "76561a6a",
   "metadata": {},
   "outputs": [
    {
     "name": "stdout",
     "output_type": "stream",
     "text": [
      "Data imported successfully\n",
      "(25, 2)\n"
     ]
    },
    {
     "data": {
      "text/html": [
       "<div>\n",
       "<style scoped>\n",
       "    .dataframe tbody tr th:only-of-type {\n",
       "        vertical-align: middle;\n",
       "    }\n",
       "\n",
       "    .dataframe tbody tr th {\n",
       "        vertical-align: top;\n",
       "    }\n",
       "\n",
       "    .dataframe thead th {\n",
       "        text-align: right;\n",
       "    }\n",
       "</style>\n",
       "<table border=\"1\" class=\"dataframe\">\n",
       "  <thead>\n",
       "    <tr style=\"text-align: right;\">\n",
       "      <th></th>\n",
       "      <th>Hours</th>\n",
       "      <th>Scores</th>\n",
       "    </tr>\n",
       "  </thead>\n",
       "  <tbody>\n",
       "    <tr>\n",
       "      <th>0</th>\n",
       "      <td>2.5</td>\n",
       "      <td>21</td>\n",
       "    </tr>\n",
       "    <tr>\n",
       "      <th>1</th>\n",
       "      <td>5.1</td>\n",
       "      <td>47</td>\n",
       "    </tr>\n",
       "    <tr>\n",
       "      <th>2</th>\n",
       "      <td>3.2</td>\n",
       "      <td>27</td>\n",
       "    </tr>\n",
       "    <tr>\n",
       "      <th>3</th>\n",
       "      <td>8.5</td>\n",
       "      <td>75</td>\n",
       "    </tr>\n",
       "    <tr>\n",
       "      <th>4</th>\n",
       "      <td>3.5</td>\n",
       "      <td>30</td>\n",
       "    </tr>\n",
       "    <tr>\n",
       "      <th>5</th>\n",
       "      <td>1.5</td>\n",
       "      <td>20</td>\n",
       "    </tr>\n",
       "    <tr>\n",
       "      <th>6</th>\n",
       "      <td>9.2</td>\n",
       "      <td>88</td>\n",
       "    </tr>\n",
       "    <tr>\n",
       "      <th>7</th>\n",
       "      <td>5.5</td>\n",
       "      <td>60</td>\n",
       "    </tr>\n",
       "    <tr>\n",
       "      <th>8</th>\n",
       "      <td>8.3</td>\n",
       "      <td>81</td>\n",
       "    </tr>\n",
       "    <tr>\n",
       "      <th>9</th>\n",
       "      <td>2.7</td>\n",
       "      <td>25</td>\n",
       "    </tr>\n",
       "    <tr>\n",
       "      <th>10</th>\n",
       "      <td>7.7</td>\n",
       "      <td>85</td>\n",
       "    </tr>\n",
       "  </tbody>\n",
       "</table>\n",
       "</div>"
      ],
      "text/plain": [
       "    Hours  Scores\n",
       "0     2.5      21\n",
       "1     5.1      47\n",
       "2     3.2      27\n",
       "3     8.5      75\n",
       "4     3.5      30\n",
       "5     1.5      20\n",
       "6     9.2      88\n",
       "7     5.5      60\n",
       "8     8.3      81\n",
       "9     2.7      25\n",
       "10    7.7      85"
      ]
     },
     "execution_count": 2,
     "metadata": {},
     "output_type": "execute_result"
    }
   ],
   "source": [
    "Task1 = pd.read_csv(r\"C:\\\\Users\\\\Surajit Patra\\\\opencv\\\\Scripts\\\\Task1.csv\")\n",
    "print(\"Data imported successfully\")\n",
    "print(Task1.shape)\n",
    "Task1.head(11)"
   ]
  },
  {
   "cell_type": "markdown",
   "id": "4a91a791",
   "metadata": {},
   "source": [
    "# <span style=\"color: green;\">Exploring dataset:</span>"
   ]
  },
  {
   "cell_type": "code",
   "execution_count": 3,
   "id": "b6ac1271",
   "metadata": {},
   "outputs": [
    {
     "data": {
      "text/html": [
       "<div>\n",
       "<style scoped>\n",
       "    .dataframe tbody tr th:only-of-type {\n",
       "        vertical-align: middle;\n",
       "    }\n",
       "\n",
       "    .dataframe tbody tr th {\n",
       "        vertical-align: top;\n",
       "    }\n",
       "\n",
       "    .dataframe thead th {\n",
       "        text-align: right;\n",
       "    }\n",
       "</style>\n",
       "<table border=\"1\" class=\"dataframe\">\n",
       "  <thead>\n",
       "    <tr style=\"text-align: right;\">\n",
       "      <th></th>\n",
       "      <th>Hours</th>\n",
       "      <th>Scores</th>\n",
       "    </tr>\n",
       "  </thead>\n",
       "  <tbody>\n",
       "    <tr>\n",
       "      <th>count</th>\n",
       "      <td>25.000000</td>\n",
       "      <td>25.000000</td>\n",
       "    </tr>\n",
       "    <tr>\n",
       "      <th>mean</th>\n",
       "      <td>5.012000</td>\n",
       "      <td>51.480000</td>\n",
       "    </tr>\n",
       "    <tr>\n",
       "      <th>std</th>\n",
       "      <td>2.525094</td>\n",
       "      <td>25.286887</td>\n",
       "    </tr>\n",
       "    <tr>\n",
       "      <th>min</th>\n",
       "      <td>1.100000</td>\n",
       "      <td>17.000000</td>\n",
       "    </tr>\n",
       "    <tr>\n",
       "      <th>25%</th>\n",
       "      <td>2.700000</td>\n",
       "      <td>30.000000</td>\n",
       "    </tr>\n",
       "    <tr>\n",
       "      <th>50%</th>\n",
       "      <td>4.800000</td>\n",
       "      <td>47.000000</td>\n",
       "    </tr>\n",
       "    <tr>\n",
       "      <th>75%</th>\n",
       "      <td>7.400000</td>\n",
       "      <td>75.000000</td>\n",
       "    </tr>\n",
       "    <tr>\n",
       "      <th>max</th>\n",
       "      <td>9.200000</td>\n",
       "      <td>95.000000</td>\n",
       "    </tr>\n",
       "  </tbody>\n",
       "</table>\n",
       "</div>"
      ],
      "text/plain": [
       "           Hours     Scores\n",
       "count  25.000000  25.000000\n",
       "mean    5.012000  51.480000\n",
       "std     2.525094  25.286887\n",
       "min     1.100000  17.000000\n",
       "25%     2.700000  30.000000\n",
       "50%     4.800000  47.000000\n",
       "75%     7.400000  75.000000\n",
       "max     9.200000  95.000000"
      ]
     },
     "execution_count": 3,
     "metadata": {},
     "output_type": "execute_result"
    }
   ],
   "source": [
    "Task1.describe()"
   ]
  },
  {
   "cell_type": "code",
   "execution_count": 4,
   "id": "d12ea05f",
   "metadata": {},
   "outputs": [
    {
     "name": "stdout",
     "output_type": "stream",
     "text": [
      "<class 'pandas.core.frame.DataFrame'>\n",
      "RangeIndex: 25 entries, 0 to 24\n",
      "Data columns (total 2 columns):\n",
      " #   Column  Non-Null Count  Dtype  \n",
      "---  ------  --------------  -----  \n",
      " 0   Hours   25 non-null     float64\n",
      " 1   Scores  25 non-null     int64  \n",
      "dtypes: float64(1), int64(1)\n",
      "memory usage: 528.0 bytes\n"
     ]
    }
   ],
   "source": [
    "Task1.info()"
   ]
  },
  {
   "cell_type": "code",
   "execution_count": 5,
   "id": "87e61751",
   "metadata": {},
   "outputs": [
    {
     "data": {
      "text/plain": [
       "False"
      ]
     },
     "execution_count": 5,
     "metadata": {},
     "output_type": "execute_result"
    }
   ],
   "source": [
    "# checking if any values are missing or not:\n",
    "Task1.isnull == True"
   ]
  },
  {
   "cell_type": "markdown",
   "id": "9cae1367",
   "metadata": {},
   "source": [
    "# <span style=\"color: green;\">Input Data Visualization:</span>"
   ]
  },
  {
   "cell_type": "code",
   "execution_count": 6,
   "id": "454819bb",
   "metadata": {},
   "outputs": [
    {
     "data": {
      "image/png": "[encoded data removed]",
      "text/plain": [
       "<Figure size 432x288 with 1 Axes>"
      ]
     },
     "metadata": {
      "needs_background": "light"
     },
     "output_type": "display_data"
    }
   ],
   "source": [
    "# Plotting the distribution of scores\n",
    "x = \"Hours\"\n",
    "y = \"Scores\"\n",
    "Task1.plot(x, y, style = 'o', color = 'aqua')\n",
    "plt.title(\"Scatter plot: Number of hours studied vs percentage of marks obtained\", fontsize = 14, color = 'black')\n",
    "plt.xlabel(\"Number of hours studied\", fontsize = 14, color = 'blue')\n",
    "plt.ylabel(\"Percentage of marks obtained\", fontsize = 14, color = 'blue')\n",
    "plt.show()"
   ]
  },
  {
   "cell_type": "code",
   "execution_count": 7,
   "id": "c6217159",
   "metadata": {},
   "outputs": [
    {
     "name": "stderr",
     "output_type": "stream",
     "text": [
      "c:\\users\\surajit patra\\opencv\\lib\\site-packages\\seaborn\\_decorators.py:36: FutureWarning: Pass the following variables as keyword args: x, y. From version 0.12, the only valid positional argument will be `data`, and passing other arguments without an explicit keyword will result in an error or misinterpretation.\n",
      "  warnings.warn(\n"
     ]
    },
    {
     "data": {
      "image/png": "[encoded data removed]",
      "text/plain": [
       "<Figure size 432x288 with 1 Axes>"
      ]
     },
     "metadata": {
      "needs_background": "light"
     },
     "output_type": "display_data"
    },
    {
     "data": {
      "text/html": [
       "<div>\n",
       "<style scoped>\n",
       "    .dataframe tbody tr th:only-of-type {\n",
       "        vertical-align: middle;\n",
       "    }\n",
       "\n",
       "    .dataframe tbody tr th {\n",
       "        vertical-align: top;\n",
       "    }\n",
       "\n",
       "    .dataframe thead th {\n",
       "        text-align: right;\n",
       "    }\n",
       "</style>\n",
       "<table border=\"1\" class=\"dataframe\">\n",
       "  <thead>\n",
       "    <tr style=\"text-align: right;\">\n",
       "      <th></th>\n",
       "      <th>Hours</th>\n",
       "      <th>Scores</th>\n",
       "    </tr>\n",
       "  </thead>\n",
       "  <tbody>\n",
       "    <tr>\n",
       "      <th>Hours</th>\n",
       "      <td>1.000000</td>\n",
       "      <td>0.976191</td>\n",
       "    </tr>\n",
       "    <tr>\n",
       "      <th>Scores</th>\n",
       "      <td>0.976191</td>\n",
       "      <td>1.000000</td>\n",
       "    </tr>\n",
       "  </tbody>\n",
       "</table>\n",
       "</div>"
      ],
      "text/plain": [
       "           Hours    Scores\n",
       "Hours   1.000000  0.976191\n",
       "Scores  0.976191  1.000000"
      ]
     },
     "execution_count": 7,
     "metadata": {},
     "output_type": "execute_result"
    }
   ],
   "source": [
    "# Regression line plot\n",
    "x = Task1[\"Hours\"]\n",
    "y = Task1[\"Scores\"]\n",
    "sns.regplot(x, y, color = \"aqua\") \n",
    "plt.title(\"Regression Plot: Number of hours studied vs percentage of marks obtained\", color = \"black\", fontsize = 14)\n",
    "plt.xlabel(\"Number of hours studied\", color = \"Blue\", fontsize = 14)\n",
    "plt.ylabel(\"Percentage of marks obtained\", color = \"Blue\", fontsize = 14)\n",
    "plt.show()\n",
    "Task1.corr()"
   ]
  },
  {
   "cell_type": "markdown",
   "id": "86283a8d",
   "metadata": {},
   "source": [
    "<span style=\"color: black;\">From the above plot, we can clearly see that there is a positive linear relation between the number of hours studied and percentage of score.</span>"
   ]
  },
  {
   "cell_type": "markdown",
   "id": "4724da17",
   "metadata": {},
   "source": [
    "# <span style=\"color: green;\">Preparing the data</span>\n",
    "\n",
    "<span style=\"color: black;\">The next step is to divide the data into \"attributes\" (inputs) and \"labels\" (outputs).</span>\n"
   ]
  },
  {
   "cell_type": "code",
   "execution_count": 8,
   "id": "fd50f75b",
   "metadata": {},
   "outputs": [],
   "source": [
    "X = Task1.iloc[:, :-1].values  \n",
    "y = Task1.iloc[:, 1].values "
   ]
  },
  {
   "cell_type": "markdown",
   "id": "d8319c58",
   "metadata": {},
   "source": [
    "<span style=\"color: black;\">Now that we have our attributes and labels, the next step is to split this data into training and test sets. We'll do this by using Scikit-Learn's built-in train_test_split() method:</span>\n"
   ]
  },
  {
   "cell_type": "code",
   "execution_count": 9,
   "id": "9404a91b",
   "metadata": {},
   "outputs": [],
   "source": [
    "from sklearn.model_selection import train_test_split  \n",
    "X_train, X_test, y_train, y_test = train_test_split(X, y, \n",
    "                            test_size=0.2, random_state=0)"
   ]
  },
  {
   "cell_type": "markdown",
   "id": "d3e3c8fe",
   "metadata": {},
   "source": [
    "# <span style=\"color: green;\">Training the Algorithm</span>\n",
    "\n",
    "<span style=\"color: black;\">We have split our data into training and testing sets, and now is finally the time to train our algorithm.</span>"
   ]
  },
  {
   "cell_type": "code",
   "execution_count": 10,
   "id": "96384f62",
   "metadata": {},
   "outputs": [
    {
     "name": "stdout",
     "output_type": "stream",
     "text": [
      "Training complete.\n"
     ]
    }
   ],
   "source": [
    "from sklearn.linear_model import LinearRegression  \n",
    "regressor = LinearRegression()  \n",
    "regressor.fit(X_train, y_train) \n",
    "\n",
    "print(\"Training complete.\")"
   ]
  },
  {
   "cell_type": "code",
   "execution_count": 11,
   "id": "f794ae49",
   "metadata": {},
   "outputs": [
    {
     "data": {
      "image/png": "[encoded data removed]",
      "text/plain": [
       "<Figure size 432x288 with 1 Axes>"
      ]
     },
     "metadata": {
      "needs_background": "light"
     },
     "output_type": "display_data"
    },
    {
     "data": {
      "image/png": "[encoded data removed]",
      "text/plain": [
       "<Figure size 432x288 with 1 Axes>"
      ]
     },
     "metadata": {
      "needs_background": "light"
     },
     "output_type": "display_data"
    }
   ],
   "source": [
    "# Training set data plot\n",
    "plt.scatter(X_train, y_train, color = \"aqua\")\n",
    "plt.plot(X_train, regressor.predict(X_train), color = \"gold\")\n",
    "plt.title(\"Training data set\",fontsize = 16)\n",
    "plt.xlabel(\"hours\", fontsize = 14)\n",
    "plt.ylabel(\"scores\", fontsize = 14)\n",
    "plt.show()\n",
    "\n",
    "# Test set data plot\n",
    "plt.scatter(X_test, y_test, color = \"aqua\")  \n",
    "plt.plot(X_train, regressor.predict(X_train), color = \"gold\")\n",
    "plt.title(\"Testing data set\", fontsize = 16)\n",
    "plt.xlabel(\"hours\", fontsize = 14)\n",
    "plt.ylabel(\"scores\", fontsize = 14)\n",
    "plt.show()"
   ]
  },
  {
   "cell_type": "markdown",
   "id": "fb4d755f",
   "metadata": {},
   "source": [
    "# <span style=\"color: green;\">Making Predictions</span>\n",
    "\n",
    "<span style=\"color: black;\">Now that we have trained our algorithm, it's time to make some predictions.</span>"
   ]
  },
  {
   "cell_type": "code",
   "execution_count": 12,
   "id": "fbe72462",
   "metadata": {},
   "outputs": [
    {
     "name": "stdout",
     "output_type": "stream",
     "text": [
      "[[1.5]\n",
      " [3.2]\n",
      " [7.4]\n",
      " [2.5]\n",
      " [5.9]]\n",
      "[16.88414476 33.73226078 75.357018   26.79480124 60.49103328]\n"
     ]
    }
   ],
   "source": [
    " # Testing data - In Hours\n",
    "y_pred = regressor.predict(X_test) # Predicting the scores\n",
    "print(X_test)\n",
    "print(y_pred)"
   ]
  },
  {
   "cell_type": "markdown",
   "id": "7e5feab9",
   "metadata": {},
   "source": [
    "# <span style=\"color: green;\">Comparing Actual vs Predicted scores:</span>"
   ]
  },
  {
   "cell_type": "code",
   "execution_count": 13,
   "id": "6c2539c9",
   "metadata": {},
   "outputs": [
    {
     "data": {
      "text/html": [
       "<div>\n",
       "<style scoped>\n",
       "    .dataframe tbody tr th:only-of-type {\n",
       "        vertical-align: middle;\n",
       "    }\n",
       "\n",
       "    .dataframe tbody tr th {\n",
       "        vertical-align: top;\n",
       "    }\n",
       "\n",
       "    .dataframe thead th {\n",
       "        text-align: right;\n",
       "    }\n",
       "</style>\n",
       "<table border=\"1\" class=\"dataframe\">\n",
       "  <thead>\n",
       "    <tr style=\"text-align: right;\">\n",
       "      <th></th>\n",
       "      <th>Actual</th>\n",
       "      <th>Predicted</th>\n",
       "    </tr>\n",
       "  </thead>\n",
       "  <tbody>\n",
       "    <tr>\n",
       "      <th>0</th>\n",
       "      <td>20</td>\n",
       "      <td>16.884145</td>\n",
       "    </tr>\n",
       "    <tr>\n",
       "      <th>1</th>\n",
       "      <td>27</td>\n",
       "      <td>33.732261</td>\n",
       "    </tr>\n",
       "    <tr>\n",
       "      <th>2</th>\n",
       "      <td>69</td>\n",
       "      <td>75.357018</td>\n",
       "    </tr>\n",
       "    <tr>\n",
       "      <th>3</th>\n",
       "      <td>30</td>\n",
       "      <td>26.794801</td>\n",
       "    </tr>\n",
       "    <tr>\n",
       "      <th>4</th>\n",
       "      <td>62</td>\n",
       "      <td>60.491033</td>\n",
       "    </tr>\n",
       "  </tbody>\n",
       "</table>\n",
       "</div>"
      ],
      "text/plain": [
       "   Actual  Predicted\n",
       "0      20  16.884145\n",
       "1      27  33.732261\n",
       "2      69  75.357018\n",
       "3      30  26.794801\n",
       "4      62  60.491033"
      ]
     },
     "execution_count": 13,
     "metadata": {},
     "output_type": "execute_result"
    }
   ],
   "source": [
    "# Comparing Actual vs Predicted\n",
    "df = pd.DataFrame({'Actual': y_test, 'Predicted': y_pred})  \n",
    "df"
   ]
  },
  {
   "cell_type": "markdown",
   "id": "339c57a6",
   "metadata": {},
   "source": [
    "# <span style=\"color: green;\">Predicting the score of a student who studies for 9.25hours/day:</span>"
   ]
  },
  {
   "cell_type": "code",
   "execution_count": 14,
   "id": "8575f2cf",
   "metadata": {},
   "outputs": [
    {
     "name": "stdout",
     "output_type": "stream",
     "text": [
      "No of Hours the student studies per day = [[9.25]]\n",
      "Predicted Score of the student = 93.69173248737535\n"
     ]
    }
   ],
   "source": [
    "# You can also test with your own data\n",
    "hours = np.array(9.25)\n",
    "hours = hours.reshape(-1, 1)\n",
    "own_pred = regressor.predict(hours)\n",
    "print(\"No of Hours the student studies per day = {}\".format(hours))\n",
    "print(\"Predicted Score of the student = {}\".format(own_pred[0]))"
   ]
  },
  {
   "cell_type": "markdown",
   "id": "7246be62",
   "metadata": {},
   "source": [
    "<span style=\"color: black;\">So, we can say that if a student studies for 9.25 hours/day then that student can be expected to score approximately 94 percent.</span>"
   ]
  },
  {
   "cell_type": "markdown",
   "id": "dd23301d",
   "metadata": {},
   "source": [
    "# <span style=\"color: green;\">Evaluating the model</span>\n",
    "\n",
    "<span style=\"color: black;\">The final step is to evaluate the performance of algorithm. This step is particularly important to compare how well different algorithms perform on a particular dataset. For simplicity here, we have chosen the mean square error. There are many such metrics.</span>"
   ]
  },
  {
   "cell_type": "code",
   "execution_count": 15,
   "id": "2c039a1c",
   "metadata": {},
   "outputs": [
    {
     "name": "stdout",
     "output_type": "stream",
     "text": [
      "Mean Absolute Error: 4.183859899002975\n"
     ]
    }
   ],
   "source": [
    "from sklearn import metrics  \n",
    "print('Mean Absolute Error:', \n",
    "      metrics.mean_absolute_error(y_test, y_pred)) "
   ]
  },
  {
   "cell_type": "code",
   "execution_count": null,
   "id": "5159a9b2",
   "metadata": {},
   "outputs": [],
   "source": []
  }
 ],
 "metadata": {
  "kernelspec": {
   "display_name": "Python 3",
   "language": "python",
   "name": "python3"
  },
  "language_info": {
   "codemirror_mode": {
    "name": "ipython",
    "version": 3
   },
   "file_extension": ".py",
   "mimetype": "text/x-python",
   "name": "python",
   "nbconvert_exporter": "python",
   "pygments_lexer": "ipython3",
   "version": "3.9.2"
  }
 },
 "nbformat": 4,
 "nbformat_minor": 5
}
